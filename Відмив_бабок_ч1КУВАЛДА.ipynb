{
 "cells": [
  {
   "cell_type": "code",
   "execution_count": null,
   "id": "d2f9d4c4",
   "metadata": {},
   "outputs": [],
   "source": [
    "def shadow(limit=200):\n",
    "    def decorator(generator_func):\n",
    "        def wrapper(*args, **kwargs):\n",
    "            total_sum = 0\n",
    "            limit_breached = False\n",
    "            \n",
    "            source_stream = generator_func(*args, **kwargs)\n",
    "            \n",
    "            for item in source_stream:\n",
    "                try:\n",
    "                    parts = item.split()\n",
    "                    action, amount_str = parts[0], parts[1]\n",
    "                    amount = int(amount_str)\n",
    "                    \n",
    "                    if action in (\"payment\", \"transfer\", \"refund\"):\n",
    "                        total_sum += amount\n",
    "                    else:\n",
    "                        continue\n",
    "                \n",
    "                except (ValueError, IndexError):\n",
    "                    continue\n",
    "                \n",
    "                if not limit_breached and total_sum > limit:\n",
    "                    print(f\"\\n[СХЕМА]: Тіньовий ліміт ({limit}) пробито. Активація протоколів.\\n\")\n",
    "                    limit_breached = True\n",
    "                \n",
    "                yield item\n",
    "            \n",
    "            return total_sum\n",
    "            \n",
    "        return wrapper\n",
    "    return decorator"
   ]
  },
  {
   "cell_type": "code",
   "execution_count": null,
   "id": "8a272931",
   "metadata": {},
   "outputs": [],
   "source": [
    "@shadow(limit=400)\n",
    "def transaction_stream():\n",
    "    transactions = [\n",
    "        \"payment 120\",\n",
    "        \"refund 50\",\n",
    "        \"noise data ignore this\",\n",
    "        \"transfer 300\",\n",
    "        \"payment 25\",\n",
    "        \"system_log non-numeric\",\n",
    "        \"unknown_op 100\"\n",
    "    ]\n",
    "    for t in transactions:\n",
    "        print(f\"[ПОТІК]: Згенеровано транзакцію -> '{t}'\")\n",
    "        yield t"
   ]
  },
  {
   "cell_type": "code",
   "execution_count": null,
   "id": "f99f4afb",
   "metadata": {},
   "outputs": [],
   "source": [
    "if __name__ == \"__main__\":\n",
    "    print(\"--- Активація тіньового моніторингу ---\\n\")\n",
    "    \n",
    "    monitored_stream = transaction_stream()\n",
    "    final_balance = 0\n",
    "\n",
    "    try:\n",
    "        while True:\n",
    "            transaction_data = next(monitored_stream)\n",
    "            print(f\"   [ЗОВНІШНІЙ СВІТ]: Отримано дані: '{transaction_data}'\")\n",
    "            \n",
    "    except StopIteration as e:\n",
    "        final_balance = e.value\n",
    "        print(\"\\n--- Потік вичерпано. Моніторинг завершено. ---\")\n",
    "\n",
    "    print(f\"\\nФінальний тіньовий баланс: {final_balance}\")"
   ]
  }
 ],
 "metadata": {
  "jupytext": {
   "cell_metadata_filter": "-all",
   "main_language": "python",
   "notebook_metadata_filter": "-all"
  }
 },
 "nbformat": 4,
 "nbformat_minor": 5
}
