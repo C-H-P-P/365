{
 "cells": [
  {
   "cell_type": "code",
   "execution_count": null,
   "id": "3e509f46",
   "metadata": {},
   "outputs": [],
   "source": [
    "class JunkItem:\n",
    "    def __init__(self, name, quantity, value):\n",
    "        self.name = name\n",
    "        self.quantity = quantity\n",
    "        self.value = value\n",
    "    \n",
    "    def __str__(self):\n",
    "        return f\"{self.name} (кількість: {self.quantity}, вартість: {self.value})\""
   ]
  },
  {
   "cell_type": "code",
   "execution_count": null,
   "id": "15420fa5",
   "metadata": {
    "lines_to_next_cell": 1
   },
   "outputs": [],
   "source": [
    "class JunkStorage:\n",
    "    def __init__(self):\n",
    "        self.items = []\n",
    "    def serialize(self, filename):\n",
    "        try:\n",
    "            with open(filename, 'w', encoding='utf-8') as file:  \n",
    "                file.write(\"name,quantity,value\\n\")\n",
    "                for item in self.items:\n",
    "                    file.write(f\"{item.name},{item.quantity},{item.value}\\n\")\n",
    "            print(f\"Дані збережено у {filename}\")\n",
    "        except Exception as e:\n",
    "            print(f\"Помилка: {e}\")\n",
    "\n",
    "    def parse(self, filename):\n",
    "        self.items = []\n",
    "        try:\n",
    "            with open(filename, 'r', encoding='utf-8') as file:\n",
    "                lines = file.readlines()                 \n",
    "                for line in lines[1:]:\n",
    "                    line = line.strip()  \n",
    "                    if not line:  \n",
    "                        continue                               \n",
    "                    parts = line.split(',')                 \n",
    "                    if len(parts) != 3:\n",
    "                        print(f\"Пропущено некоректний рядок: {line}\")\n",
    "                        continue\n",
    "                    \n",
    "                    try:\n",
    "                        name = parts[0].strip()\n",
    "                        quantity = int(parts[1].strip())\n",
    "                        value = float(parts[2].strip())                      \n",
    "                        if not name:\n",
    "                            print(f\"Пропущено рядок без назви\")\n",
    "                            continue                \n",
    "                        item = JunkItem(name, quantity, value)\n",
    "                        self.items.append(item)\n",
    "                    except ValueError:\n",
    "                        print(f\"Помилка формату у рядку: {line}\")\n",
    "                        continue\n",
    "            \n",
    "            print(f\"Завантажено {len(self.items)} предметів\")\n",
    "        except FileNotFoundError:\n",
    "            print(f\"Файл {filename} не знайдено\")\n",
    "        except Exception as e:\n",
    "            print(f\"Помилка: {e}\")"
   ]
  },
  {
   "cell_type": "code",
   "execution_count": null,
   "id": "5a3cb6e6",
   "metadata": {},
   "outputs": [],
   "source": [
    "def main():\n",
    "    storage = JunkStorage()\n",
    "    print(\"Створення предметів\")\n",
    "    storage.items.append(JunkItem(\"Бляшанка\", 5, 2.5))\n",
    "    storage.items.append(JunkItem(\"Стара плата\", 3, 7.8))\n",
    "    storage.items.append(JunkItem(\"Купка дротів\", 10, 1.2))\n",
    "    \n",
    "    for item in storage.items:\n",
    "        print(f\"Створено: {item}\")\n",
    "    print(\"\\nЗбереження\")\n",
    "    storage.serialize('junk_items.csv')\n",
    "    storage.items = []\n",
    "    print(f\"\\nСписок очищено. Предметів: {len(storage.items)}\")\n",
    "    print(\"\\nЗавантаження \")\n",
    "    storage.parse('junk_items.csv') \n",
    "    print(\"\\nРезультат \")\n",
    "    for item in storage.items:\n",
    "        print(item)\n",
    "if __name__ == \"__main__\":\n",
    "    main()"
   ]
  }
 ],
 "metadata": {
  "jupytext": {
   "cell_metadata_filter": "-all",
   "main_language": "python",
   "notebook_metadata_filter": "-all"
  }
 },
 "nbformat": 4,
 "nbformat_minor": 5
}
