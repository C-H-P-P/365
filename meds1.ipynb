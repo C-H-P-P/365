{
 "cells": [
  {
   "cell_type": "code",
   "execution_count": null,
   "id": "f7a5a835",
   "metadata": {
    "lines_to_next_cell": 0
   },
   "outputs": [],
   "source": []
  },
  {
   "cell_type": "code",
   "execution_count": null,
   "id": "117432a5",
   "metadata": {},
   "outputs": [],
   "source": [
    "meds = [\n",
    "    {\"name\": \"Амоксицилін\", \"qty\": 20, \"category\": \"antibiotic\", \"temp\": 22.0},\n",
    "    {\"name\": \"Вітамін C\", \"qty\": 50, \"category\": \"vitamin\", \"temp\": 4.5},\n",
    "    {\"name\": \"Ковід-19 вакцина\", \"qty\": 100, \"category\": \"vaccine\", \"temp\": 26.0},\n",
    "    {\"name\": \"Невідомий препарат\", \"qty\": \"десять\", \"category\": \"other\", \"temp\": 18.0},\n",
    "]"
   ]
  },
  {
   "cell_type": "code",
   "execution_count": null,
   "id": "0cbf9c67",
   "metadata": {
    "lines_to_next_cell": 2
   },
   "outputs": [],
   "source": [
    "for med in meds:\n",
    "    name = med.get(\"name\")\n",
    "    category = med.get(\"category\")\n",
    "    try:\n",
    "        qty = int(med.get(\"qty\"))     \n",
    "        temp = float(med.get(\"temp\")) \n",
    "    except (ValueError, TypeError):\n",
    "        print(f\"{name}: Помилка даних\")\n",
    "        continue\n",
    "\n",
    "    \n",
    "    if temp < 5:\n",
    "        temp_status = \"Надто холодно\"\n",
    "    elif temp > 25:\n",
    "        temp_status = \"Надто жарко\"\n",
    "    else:\n",
    "        temp_status = \"Норма\"\n",
    "\n",
    "\n",
    "    match category:\n",
    "        case \"antibiotic\":\n",
    "            cat_status = \"Рецептурний препарат\"\n",
    "        case \"vitamin\":\n",
    "            cat_status = \"Вільний продаж\"\n",
    "        case \"vaccine\":\n",
    "            cat_status = \"Потребує спецзберігання\"\n",
    "        case _:\n",
    "            cat_status = \"Невідома категорія\"\n",
    "\n",
    "    print(f\"{name}: {cat_status}, {temp_status}\")"
   ]
  }
 ],
 "metadata": {
  "jupytext": {
   "cell_metadata_filter": "-all",
   "main_language": "python",
   "notebook_metadata_filter": "-all"
  }
 },
 "nbformat": 4,
 "nbformat_minor": 5
}
