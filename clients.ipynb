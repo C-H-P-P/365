{
 "cells": [
  {
   "cell_type": "code",
   "execution_count": null,
   "id": "125b9ded",
   "metadata": {},
   "outputs": [],
   "source": [
    "clients = [\n",
    "    {\"name\": \"Олексій\", \"amount\": 50, \"status\": \"clean\"},\n",
    "    {\"name\": \"Марія\", \"amount\": 500, \"status\": \"suspicious\"},\n",
    "    {\"name\": \"Іван\", \"amount\": 1500, \"status\": \"fraud\"},\n",
    "    {\"name\": \"Наталя\", \"amount\": \"п’ятсот\", \"status\": \"clean\"},\n",
    "    {\"name\": \"Петро\", \"amount\": 300, \"status\": \"unknown\"},\n",
    "]"
   ]
  },
  {
   "cell_type": "code",
   "execution_count": null,
   "id": "720189e9",
   "metadata": {},
   "outputs": [],
   "source": [
    "for client in clients:\n",
    "    name = client.get(\"name\")\n",
    "    status = client.get(\"status\")\n",
    "\n",
    "    try:\n",
    "        amount = float(client.get(\"amount\"))  \n",
    "    except (ValueError, TypeError):\n",
    "        print(f\"{name}: Фальшиві дані\")\n",
    "        continue\n",
    "\n",
    "  \n",
    "    if amount < 100:\n",
    "        sum_category = \"Дрібнота\"\n",
    "    elif amount < 1000:\n",
    "        sum_category = \"Середнячок\"\n",
    "    else:\n",
    "        sum_category = \"Великий клієнт\"\n",
    "\n",
    " \n",
    "    match status:\n",
    "        case \"clean\":\n",
    "            decision = \"Працювати без питань\"\n",
    "        case \"suspicious\":\n",
    "            decision = \"Перевірити документи\"\n",
    "        case \"fraud\":\n",
    "            decision = \"У чорний список\"\n",
    "        case _:\n",
    "            decision = \"Невідомий статус\"\n",
    "\n",
    "    print(f\"{name}: {sum_category}, {decision}\")"
   ]
  }
 ],
 "metadata": {
  "jupytext": {
   "cell_metadata_filter": "-all",
   "main_language": "python",
   "notebook_metadata_filter": "-all"
  }
 },
 "nbformat": 4,
 "nbformat_minor": 5
}
