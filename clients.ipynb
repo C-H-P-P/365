clients = [
    {"name": "Олексій", "amount": 50, "status": "clean"},
    {"name": "Марія", "amount": 500, "status": "suspicious"},
    {"name": "Іван", "amount": 1500, "status": "fraud"},
    {"name": "Наталя", "amount": "п’ятсот", "status": "clean"},
    {"name": "Петро", "amount": 300, "status": "unknown"},
]

for client in clients:
    name = client.get("name")
    status = client.get("status")

    try:
        amount = float(client.get("amount"))  
    except (ValueError, TypeError):
        print(f"{name}: Фальшиві дані")
        continue

  
    if amount < 100:
        sum_category = "Дрібнота"
    elif amount < 1000:
        sum_category = "Середнячок"
    else:
        sum_category = "Великий клієнт"

 
    match status:
        case "clean":
            decision = "Працювати без питань"
        case "suspicious":
            decision = "Перевірити документи"
        case "fraud":
            decision = "У чорний список"
        case _:
            decision = "Невідомий статус"

    print(f"{name}: {sum_category}, {decision}")
