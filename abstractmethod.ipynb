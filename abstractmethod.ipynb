{
 "cells": [
  {
   "cell_type": "code",
   "execution_count": null,
   "id": "c4d5b665",
   "metadata": {
    "lines_to_next_cell": 1
   },
   "outputs": [],
   "source": [
    "from abc import ABC, abstractmethod"
   ]
  },
  {
   "cell_type": "code",
   "execution_count": null,
   "id": "60731f7d",
   "metadata": {},
   "outputs": [],
   "source": [
    "class Medicine(ABC):\n",
    "    def __init__(self, name: str, quantity: int, price: float):\n",
    "        if not isinstance(name, str):\n",
    "            raise TypeError(\"Name must be a string\")\n",
    "        if not isinstance(quantity, int) or quantity <= 0:\n",
    "            raise ValueError(\"Quantity must be a positive integer\")\n",
    "        if not isinstance(price, (int, float)) or price <= 0:\n",
    "            raise ValueError(\"Price must be a positive number\")\n",
    "\n",
    "        self.name = name\n",
    "        self.quantity = quantity\n",
    "        self.price = price\n",
    "\n",
    "    @abstractmethod\n",
    "    def requires_prescription(self) -> bool:\n",
    "        pass\n",
    "\n",
    "    @abstractmethod\n",
    "    def storage_requirements(self) -> str:\n",
    "        pass\n",
    "\n",
    "    def total_price(self) -> float:\n",
    "        return self.quantity * self.price\n",
    "\n",
    "    @abstractmethod\n",
    "    def info(self) -> str:\n",
    "        pass"
   ]
  },
  {
   "cell_type": "code",
   "execution_count": null,
   "id": "e45f4f2b",
   "metadata": {},
   "outputs": [],
   "source": [
    "class Antibiotic(Medicine):\n",
    "    def requires_prescription(self) -> bool:\n",
    "        return True\n",
    "\n",
    "    def storage_requirements(self) -> str:\n",
    "        return \"8–15°C, темне місце\"\n",
    "\n",
    "    def info(self) -> str:\n",
    "        return (f\"Антибіотик: {self.name}, Кількість: {self.quantity}, \"\n",
    "                f\"Ціна за од.: {self.price} грн, Загальна вартість: {self.total_price()} грн, \"\n",
    "                f\"Рецепт: {self.requires_prescription()}, Зберігання: {self.storage_requirements()}\")"
   ]
  },
  {
   "cell_type": "code",
   "execution_count": null,
   "id": "ba343f9d",
   "metadata": {},
   "outputs": [],
   "source": [
    "class Vitamin(Medicine):\n",
    "    def requires_prescription(self) -> bool:\n",
    "        return False\n",
    "\n",
    "    def storage_requirements(self) -> str:\n",
    "        return \"15–25°C, сухо\"\n",
    "\n",
    "    def info(self) -> str:\n",
    "        return (f\"Вітамін: {self.name}, Кількість: {self.quantity}, \"\n",
    "                f\"Ціна за од.: {self.price} грн, Загальна вартість: {self.total_price()} грн, \"\n",
    "                f\"Рецепт: {self.requires_prescription()}, Зберігання: {self.storage_requirements()}\")"
   ]
  },
  {
   "cell_type": "code",
   "execution_count": null,
   "id": "ed1b87ce",
   "metadata": {},
   "outputs": [],
   "source": [
    "class Vaccine(Medicine):\n",
    "    def requires_prescription(self) -> bool:\n",
    "        return True\n",
    "\n",
    "    def storage_requirements(self) -> str:\n",
    "        return \"2–8°C, холодильник\"\n",
    "\n",
    "    def total_price(self) -> float:\n",
    "        base_price = super().total_price()\n",
    "        return base_price * 1.1  \n",
    "\n",
    "    def info(self) -> str:\n",
    "        return (f\"Вакцина: {self.name}, Кількість: {self.quantity}, \"\n",
    "                f\"Ціна за од.: {self.price} грн, Загальна вартість: {self.total_price()} грн, \"\n",
    "                f\"Рецепт: {self.requires_prescription()}, Зберігання: {self.storage_requirements()}\")"
   ]
  },
  {
   "cell_type": "code",
   "execution_count": null,
   "id": "1755770c",
   "metadata": {},
   "outputs": [],
   "source": [
    "if __name__ == \"__main__\":\n",
    "    medicines = [\n",
    "        Antibiotic(\"Амоксицилін\", 10, 50.0),\n",
    "        Vitamin(\"Вітамін C\", 20, 5.0),\n",
    "        Vaccine(\"COVID-19 вакцина\", 5, 300.0)\n",
    "    ]\n",
    "\n",
    "    for med in medicines:\n",
    "        print(med.info())\n",
    "###\n",
    "class Medicine:\n",
    "    def __init__(self, name, quantity, price):\n",
    "        self.name = name\n",
    "        self.quantity = quantity\n",
    "        self.price = price\n",
    "\n",
    "    def total_price(self):\n",
    "        return self.quantity * self.price"
   ]
  },
  {
   "cell_type": "code",
   "execution_count": null,
   "id": "91f15ddc",
   "metadata": {},
   "outputs": [],
   "source": [
    "class Antibiotic(Medicine):\n",
    "    def info(self):\n",
    "        return (f\"Антибіотик: {self.name}, Кількість: {self.quantity}, \"\n",
    "                f\"Ціна за од.: {self.price} грн, Загальна вартість: {self.total_price()} грн, \"\n",
    "                f\"Рецепт: Так, Зберігання: 8–15°C, темне місце\")"
   ]
  },
  {
   "cell_type": "code",
   "execution_count": null,
   "id": "526a5997",
   "metadata": {},
   "outputs": [],
   "source": [
    "class Vitamin(Medicine):\n",
    "    def info(self):\n",
    "        return (f\"Вітамін: {self.name}, Кількість: {self.quantity}, \"\n",
    "                f\"Ціна за од.: {self.price} грн, Загальна вартість: {self.total_price()} грн, \"\n",
    "                f\"Рецепт: Ні, Зберігання: 15–25°C, сухо\")"
   ]
  },
  {
   "cell_type": "code",
   "execution_count": null,
   "id": "1c6ad8f4",
   "metadata": {},
   "outputs": [],
   "source": [
    "class Vaccine(Medicine):\n",
    "    def total_price(self):\n",
    "        return super().total_price() * 1.1  \n",
    "\n",
    "    def info(self):\n",
    "        return (f\"Вакцина: {self.name}, Кількість: {self.quantity}, \"\n",
    "                f\"Ціна за од.: {self.price} грн, Загальна вартість: {self.total_price()} грн, \"\n",
    "                f\"Рецепт: Так, Зберігання: 2–8°C, холодильник\")"
   ]
  },
  {
   "cell_type": "code",
   "execution_count": null,
   "id": "fea85ae2",
   "metadata": {},
   "outputs": [],
   "source": []
  },
  {
   "cell_type": "code",
   "execution_count": null,
   "id": "cefaeebf",
   "metadata": {},
   "outputs": [],
   "source": [
    "medicines = [\n",
    "    Antibiotic(\"Амоксицилін\", 10, 50.0),\n",
    "    Vitamin(\"Вітамін C\", 20, 5.0),\n",
    "    Vaccine(\"COVID-19 вакцина\", 5, 300.0)\n",
    "]"
   ]
  },
  {
   "cell_type": "code",
   "execution_count": null,
   "id": "f0de2112",
   "metadata": {},
   "outputs": [],
   "source": [
    "for med in medicines:\n",
    "    print(med.info())"
   ]
  }
 ],
 "metadata": {
  "jupytext": {
   "cell_metadata_filter": "-all",
   "main_language": "python",
   "notebook_metadata_filter": "-all"
  }
 },
 "nbformat": 4,
 "nbformat_minor": 5
}
