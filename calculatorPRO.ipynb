{
 "cells": [
  {
   "cell_type": "code",
   "execution_count": null,
   "id": "56cc91ad",
   "metadata": {},
   "outputs": [],
   "source": []
  },
  {
   "cell_type": "code",
   "execution_count": null,
   "id": "9563bcc7",
   "metadata": {
    "lines_to_next_cell": 1
   },
   "outputs": [],
   "source": [
    "from math import isclose\n",
    "ops = {\n",
    "    '+': (2, 'left'),\n",
    "    '-': (2, 'left'),\n",
    "    '*': (3, 'left'),\n",
    "    '/': (3, 'left'),\n",
    "    '^': (4, 'right'),\n",
    "}"
   ]
  },
  {
   "cell_type": "code",
   "execution_count": null,
   "id": "9d763ffa",
   "metadata": {
    "lines_to_next_cell": 1
   },
   "outputs": [],
   "source": [
    "def tokenize(expr: str):\n",
    "    tokens = []\n",
    "    i, prev = 0, None\n",
    "    while i < len(expr):\n",
    "        c = expr[i]\n",
    "        if c.isspace():\n",
    "            i += 1; continue\n",
    "        if c.isdigit() or c == '.':\n",
    "            num = [c]; i += 1\n",
    "            while i < len(expr) and (expr[i].isdigit() or expr[i] == '.'):\n",
    "                num.append(expr[i]); i += 1\n",
    "            tokens.append(float(''.join(num)) if '.' in num else int(''.join(num)))\n",
    "            prev = 'num'; continue\n",
    "        if c in '+-':\n",
    "            if prev is None or prev in ('op', 'lp'):\n",
    "                if c == '+': i += 1; prev = 'op'; continue\n",
    "                else: tokens += [0, '-']; i += 1; prev = 'op'; continue\n",
    "            else: tokens.append(c); prev = 'op'; i += 1; continue\n",
    "        if c in '*/^': tokens.append(c); prev = 'op'; i += 1; continue\n",
    "        if c == '(' : tokens.append(c); prev = 'lp'; i += 1; continue\n",
    "        if c == ')' : tokens.append(c); prev = 'rp'; i += 1; continue\n",
    "        raise ValueError(f\"Bad char: {c}\")\n",
    "    return tokens"
   ]
  },
  {
   "cell_type": "code",
   "execution_count": null,
   "id": "a1666c2d",
   "metadata": {
    "lines_to_next_cell": 1
   },
   "outputs": [],
   "source": [
    "def shunting_yard(tokens):\n",
    "    out, st = [], []\n",
    "    for tok in tokens:\n",
    "        if isinstance(tok,(int,float)): out.append(tok)\n",
    "        elif tok in ops:\n",
    "            p,a = ops[tok]\n",
    "            while st and st[-1] in ops:\n",
    "                tp,_ = ops[st[-1]]\n",
    "                if (a=='left' and p<=tp) or (a=='right' and p<tp): out.append(st.pop())\n",
    "                else: break\n",
    "            st.append(tok)\n",
    "        elif tok == '(' : st.append(tok)\n",
    "        elif tok == ')' :\n",
    "            while st and st[-1] != '(': out.append(st.pop())\n",
    "            if not st: raise ValueError(\"Mismatched )\")\n",
    "            st.pop()\n",
    "    while st:\n",
    "        if st[-1] in '()': raise ValueError(\"Mismatched ()\")\n",
    "        out.append(st.pop())\n",
    "    return out"
   ]
  },
  {
   "cell_type": "code",
   "execution_count": null,
   "id": "8be1754f",
   "metadata": {
    "lines_to_next_cell": 1
   },
   "outputs": [],
   "source": [
    "def eval_rpn(rpn):\n",
    "    st = []\n",
    "    for tok in rpn:\n",
    "        if isinstance(tok,(int,float)): st.append(float(tok))\n",
    "        else:\n",
    "            b,a = st.pop(), st.pop()\n",
    "            if tok=='+': st.append(a+b)\n",
    "            elif tok=='-': st.append(a-b)\n",
    "            elif tok=='*': st.append(a*b)\n",
    "            elif tok=='/':\n",
    "                if isclose(b,0): raise ZeroDivisionError(\"Division by zero\")\n",
    "                st.append(a/b)\n",
    "            elif tok=='^': st.append(a**b)\n",
    "    res = st[0]\n",
    "    return int(round(res)) if isclose(res,round(res)) else res"
   ]
  },
  {
   "cell_type": "code",
   "execution_count": null,
   "id": "99a90273",
   "metadata": {
    "lines_to_next_cell": 1
   },
   "outputs": [],
   "source": [
    "def evaluate(expr: str): return eval_rpn(shunting_yard(tokenize(expr)))"
   ]
  },
  {
   "cell_type": "code",
   "execution_count": null,
   "id": "7931bc58",
   "metadata": {},
   "outputs": [],
   "source": [
    "if __name__ == \"__main__\":\n",
    "    print(\"Введи вираз (exit для виходу):\")\n",
    "    while True:\n",
    "        s = input(\"> \").strip()\n",
    "        if s.lower() in (\"exit\",\"quit\"): break\n",
    "        try: print(evaluate(s))\n",
    "        except Exception as e: print(\"Помилка:\", e)"
   ]
  }
 ],
 "metadata": {
  "jupytext": {
   "cell_metadata_filter": "-all",
   "main_language": "python",
   "notebook_metadata_filter": "-all"
  }
 },
 "nbformat": 4,
 "nbformat_minor": 5
}
