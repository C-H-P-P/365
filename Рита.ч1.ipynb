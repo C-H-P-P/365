{
 "cells": [
  {
   "cell_type": "code",
   "execution_count": null,
   "id": "7898b290",
   "metadata": {
    "lines_to_next_cell": 1
   },
   "outputs": [],
   "source": [
    "import abc"
   ]
  },
  {
   "cell_type": "code",
   "execution_count": null,
   "id": "853224f9",
   "metadata": {
    "lines_to_next_cell": 1
   },
   "outputs": [],
   "source": [
    "class Document(abc.ABC):\n",
    "    @abc.abstractmethod\n",
    "    def render(self) -> str:\n",
    "        pass"
   ]
  },
  {
   "cell_type": "code",
   "execution_count": null,
   "id": "95c65586",
   "metadata": {
    "lines_to_next_cell": 1
   },
   "outputs": [],
   "source": [
    "class Report(Document):\n",
    "    def render(self) -> str:\n",
    "        return \"Це звіт. Якийсь формат.\""
   ]
  },
  {
   "cell_type": "code",
   "execution_count": null,
   "id": "138c21f7",
   "metadata": {
    "lines_to_next_cell": 1
   },
   "outputs": [],
   "source": [
    "class Invoice(Document):\n",
    "    def render(self) -> str:\n",
    "        return \"Це рахунок. Табличка з цифрами.\""
   ]
  },
  {
   "cell_type": "code",
   "execution_count": null,
   "id": "6ce479f8",
   "metadata": {
    "lines_to_next_cell": 1
   },
   "outputs": [],
   "source": [
    "class Contract(Document):\n",
    "    def render(self) -> str:\n",
    "        return \"Це контракт. Нудний текст.\""
   ]
  },
  {
   "cell_type": "code",
   "execution_count": null,
   "id": "0a68d103",
   "metadata": {
    "lines_to_next_cell": 1
   },
   "outputs": [],
   "source": [
    "class NullDocument(Document):\n",
    "    def render(self) -> str:\n",
    "        return \"Невідомий документ, сорі.\""
   ]
  },
  {
   "cell_type": "code",
   "execution_count": null,
   "id": "9d288711",
   "metadata": {
    "lines_to_next_cell": 1
   },
   "outputs": [],
   "source": [
    "class DocumentFactory:\n",
    "    @staticmethod\n",
    "    def create(doc_type: str) -> Document:\n",
    "        if doc_type == 'report':\n",
    "            return Report()\n",
    "        elif doc_type == 'invoice':\n",
    "            return Invoice()\n",
    "        elif doc_type == 'contract':\n",
    "            return Contract()\n",
    "        else:\n",
    "            return NullDocument()"
   ]
  },
  {
   "cell_type": "code",
   "execution_count": null,
   "id": "391527ea",
   "metadata": {
    "lines_to_next_cell": 1
   },
   "outputs": [],
   "source": [
    "def client_code(doc_type: str):\n",
    "    document = DocumentFactory.create(doc_type)\n",
    "    print(f\"Створюємо: {doc_type}\")\n",
    "    print(document.render())\n",
    "    print(\"-\" * 20)"
   ]
  },
  {
   "cell_type": "code",
   "execution_count": null,
   "id": "c1bb912e",
   "metadata": {},
   "outputs": [],
   "source": [
    "if __name__ == \"__main__\":\n",
    "    client_code('report')\n",
    "    client_code('invoice')\n",
    "    client_code('contract')\n",
    "    client_code('diploma')\n",
    "    client_code('test')"
   ]
  }
 ],
 "metadata": {
  "jupytext": {
   "cell_metadata_filter": "-all",
   "main_language": "python",
   "notebook_metadata_filter": "-all"
  }
 },
 "nbformat": 4,
 "nbformat_minor": 5
}
