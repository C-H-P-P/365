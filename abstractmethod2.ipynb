{
 "cells": [
  {
   "cell_type": "code",
   "execution_count": null,
   "id": "a21b5e3b",
   "metadata": {
    "lines_to_next_cell": 1
   },
   "outputs": [],
   "source": [
    "from abc import ABC, abstractmethod"
   ]
  },
  {
   "cell_type": "code",
   "execution_count": null,
   "id": "6e2b3623",
   "metadata": {},
   "outputs": [],
   "source": [
    "class Transport(ABC):\n",
    "    def __init__(self, name, speed, capacity):\n",
    "        self.name = name\n",
    "        self.speed = speed\n",
    "        self.capacity = capacity\n",
    "\n",
    "    @abstractmethod\n",
    "    def move(self, distance):\n",
    "        pass\n",
    "\n",
    "    @abstractmethod\n",
    "    def fuel_consumption(self, distance):\n",
    "        pass\n",
    "\n",
    "    @abstractmethod\n",
    "    def info(self):\n",
    "        pass\n",
    "\n",
    "    def calculate_cost(self, distance, price):\n",
    "        return self.fuel_consumption(distance) * price"
   ]
  },
  {
   "cell_type": "code",
   "execution_count": null,
   "id": "a0d1959f",
   "metadata": {},
   "outputs": [],
   "source": [
    "class Car(Transport):\n",
    "    def move(self, distance):\n",
    "        return distance / self.speed\n",
    "\n",
    "    def fuel_consumption(self, distance):\n",
    "        return distance * 0.07\n",
    "\n",
    "    def info(self):\n",
    "        return f\"Авто {self.name}, швидкість {self.speed} км/год, місць {self.capacity}\""
   ]
  },
  {
   "cell_type": "code",
   "execution_count": null,
   "id": "8e14ab6e",
   "metadata": {},
   "outputs": [],
   "source": [
    "class Bus(Transport):\n",
    "    def move(self, distance):\n",
    "        return distance / self.speed\n",
    "\n",
    "    def fuel_consumption(self, distance, passengers=0):\n",
    "        if passengers > self.capacity:\n",
    "            print(\"Перевантаження!\")\n",
    "            return float(\"inf\")\n",
    "        return distance * 0.15\n",
    "\n",
    "    def info(self):\n",
    "        return f\"Автобус {self.name}, швидкість {self.speed} км/год, місць {self.capacity}\""
   ]
  },
  {
   "cell_type": "code",
   "execution_count": null,
   "id": "73e1d1f6",
   "metadata": {},
   "outputs": [],
   "source": [
    "class Bicycle(Transport):\n",
    "    def __init__(self, name, speed=20, capacity=1):\n",
    "        if speed > 20:\n",
    "            speed = 20\n",
    "        super().__init__(name, speed, capacity)\n",
    "\n",
    "    def move(self, distance):\n",
    "        return distance / self.speed\n",
    "\n",
    "    def fuel_consumption(self, distance):\n",
    "        return 0\n",
    "\n",
    "    def info(self):\n",
    "        return f\"Велосипед {self.name}, швидкість {self.speed} км/год\""
   ]
  },
  {
   "cell_type": "code",
   "execution_count": null,
   "id": "b2cd1647",
   "metadata": {},
   "outputs": [],
   "source": [
    "class ElectricCar(Car):\n",
    "    def battery_usage(self, distance):\n",
    "        return distance * 0.2\n",
    "\n",
    "    def fuel_consumption(self, distance):\n",
    "        return 0\n",
    "\n",
    "    def info(self):\n",
    "        return f\"Електроавто {self.name}, швидкість {self.speed} км/год, місць {self.capacity}\""
   ]
  },
  {
   "cell_type": "code",
   "execution_count": null,
   "id": "6fed5434",
   "metadata": {},
   "outputs": [],
   "source": []
  },
  {
   "cell_type": "code",
   "execution_count": null,
   "id": "844315d8",
   "metadata": {},
   "outputs": [],
   "source": [
    "transports = [\n",
    "    Car(\"Ford\", 120, 5),\n",
    "    Bus(\"Bogdan\", 80, 30),\n",
    "    Bicycle(\"Ardis\", 25),\n",
    "    ElectricCar(\"Tesla\", 160, 4)\n",
    "]"
   ]
  },
  {
   "cell_type": "code",
   "execution_count": null,
   "id": "5f048f9c",
   "metadata": {},
   "outputs": [],
   "source": [
    "dist = 100\n",
    "for t in transports:\n",
    "    print(t.info())\n",
    "    print(\"Час у дорозі:\", round(t.move(dist), 2), \"год\")\n",
    "    print(\"Витрати:\", t.fuel_consumption(dist))\n",
    "    print()"
   ]
  }
 ],
 "metadata": {
  "jupytext": {
   "cell_metadata_filter": "-all",
   "main_language": "python",
   "notebook_metadata_filter": "-all"
  }
 },
 "nbformat": 4,
 "nbformat_minor": 5
}
